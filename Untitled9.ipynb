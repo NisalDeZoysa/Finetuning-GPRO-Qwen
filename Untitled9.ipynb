{
  "nbformat": 4,
  "nbformat_minor": 0,
  "metadata": {
    "colab": {
      "provenance": [],
      "gpuType": "T4",
      "authorship_tag": "ABX9TyO/HEXPuqCjtMTnRAqHM+DE",
      "include_colab_link": true
    },
    "kernelspec": {
      "name": "python3",
      "display_name": "Python 3"
    },
    "language_info": {
      "name": "python"
    },
    "accelerator": "GPU"
  },
  "cells": [
    {
      "cell_type": "markdown",
      "metadata": {
        "id": "view-in-github",
        "colab_type": "text"
      },
      "source": [
        "<a href=\"https://colab.research.google.com/github/NisalDeZoysa/Finetuning-GPRO-Qwen/blob/main/Untitled9.ipynb\" target=\"_parent\"><img src=\"https://colab.research.google.com/assets/colab-badge.svg\" alt=\"Open In Colab\"/></a>"
      ]
    },
    {
      "cell_type": "code",
      "execution_count": 1,
      "metadata": {
        "id": "GycA6DWk8aQL"
      },
      "outputs": [],
      "source": [
        "%%capture\n",
        "\n",
        "# First install unsloth and vllm\n",
        "!pip install unsloth vllm"
      ]
    },
    {
      "cell_type": "code",
      "source": [
        "import sys\n",
        "\n",
        "# Remove all PIL-related modules from memory\n",
        "modules = list(sys.modules.keys())\n",
        "for module_name in modules:\n",
        "    if \"PIL\" in module_name or \"torch\" in module_name or \"unsloth\" in module_name:\n",
        "        sys.modules.pop(module_name)"
      ],
      "metadata": {
        "id": "JPX1JW5a8tOW"
      },
      "execution_count": null,
      "outputs": []
    }
  ]
}